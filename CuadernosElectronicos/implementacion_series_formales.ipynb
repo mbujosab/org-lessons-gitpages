{
 "cells": [
  {
   "cell_type": "markdown",
   "id": "cc0acf89-fa72-4a48-8e9f-583edfd3fd63",
   "metadata": {},
   "source": [
    "Implementación en Python de series con grado o cogrado arbitrarios\n",
    "==================================================================\n",
    "\n",
    "**Author:** Marcos Bujosa\n",
    "\n"
   ]
  },
  {
   "cell_type": "markdown",
   "id": "6dd5050b-4eaa-4eeb-a348-d2769d98cdf3",
   "metadata": {
    "slideshow": {
     "slide_type": "skip"
    }
   },
   "source": [
    "## Ejemplos de algunas series e inversas de series\n",
    "\n"
   ]
  },
  {
   "cell_type": "markdown",
   "id": "a0a43670-cc94-4ba1-8c18-d62b824258bb",
   "metadata": {
    "slideshow": {
     "slide_type": "skip"
    }
   },
   "source": [
    "### Inversa con final e inversa con principio de un polinomio de grado uno\n",
    "\n"
   ]
  },
  {
   "cell_type": "markdown",
   "id": "e05997e5-a99a-403a-95f2-97210a4ea68a",
   "metadata": {
    "slideshow": {
     "slide_type": "skip"
    }
   },
   "source": [
    "Más abajo aparece una implementación en Python de las series con principio (con cogrado) y las series con final (con grado). Dicha implementación consiste en la definición de dos clases: la clase `SerieConPrincipio` y la clase `SerieConFinal`. \n",
    "\n"
   ]
  },
  {
   "cell_type": "markdown",
   "id": "ca4e1b13-879b-4202-a40e-992518a85816",
   "metadata": {
    "slideshow": {
     "slide_type": "skip"
    }
   },
   "source": [
    "El siguiente bloque de código es para que este cuaderno electrónico (notebook) lea el [implementacion\\_series\\_formales.py](./implementacion_series_formales.py) de python con la definición de ambas clases:\n",
    "\n"
   ]
  },
  {
   "cell_type": "code",
   "execution_count": 1,
   "id": "953ce3d9-21fc-4307-9855-17960dd02165",
   "metadata": {
    "execution": {
     "iopub.execute_input": "2025-08-10T22:14:31.539133Z",
     "iopub.status.busy": "2025-08-10T22:14:31.538843Z",
     "iopub.status.idle": "2025-08-10T22:14:35.181970Z",
     "shell.execute_reply": "2025-08-10T22:14:35.181271Z"
    },
    "slideshow": {
     "slide_type": "skip"
    }
   },
   "outputs": [],
   "source": [
    "import warnings\n",
    "warnings.filterwarnings(\"ignore\", category=UserWarning)\n",
    "%run -i implementacion_series_formales.py"
   ]
  },
  {
   "cell_type": "markdown",
   "id": "a885baad-5a5a-4d08-a1fc-0f1d5239f085",
   "metadata": {
    "slideshow": {
     "slide_type": "skip"
    }
   },
   "source": [
    "Para mayor claridad, los ejemplos de más abajo usan un parámetro simbólico. El bloque de código que puede ver a continuación define un parámetro simbólico $a$.\n",
    "\n"
   ]
  },
  {
   "cell_type": "code",
   "execution_count": 2,
   "id": "71d14980-662a-42aa-957d-c82a8d63e92c",
   "metadata": {
    "execution": {
     "iopub.execute_input": "2025-08-10T22:14:35.184404Z",
     "iopub.status.busy": "2025-08-10T22:14:35.184155Z",
     "iopub.status.idle": "2025-08-10T22:14:35.187240Z",
     "shell.execute_reply": "2025-08-10T22:14:35.186696Z"
    },
    "slideshow": {
     "slide_type": "skip"
    }
   },
   "outputs": [],
   "source": [
    "from sympy import symbols\n",
    "a = symbols('a')"
   ]
  },
  {
   "cell_type": "markdown",
   "id": "97c69279-caf4-45e0-991e-35ffc78e59b5",
   "metadata": {
    "slideshow": {
     "slide_type": "slide"
    }
   },
   "source": [
    "#### Polinomio como `SerieConPrincipio` y su inversa\n",
    "\n"
   ]
  },
  {
   "cell_type": "markdown",
   "id": "578b4472-cc0f-4440-872e-4ec353997ec9",
   "metadata": {},
   "source": [
    "Definimos un polinomio de grado 1 como una `SerieConPrincipio` (con cogrado 0):\n",
    "\n"
   ]
  },
  {
   "cell_type": "code",
   "execution_count": 3,
   "id": "7a0129f4-f45d-43ca-8ad9-a00fbe321d3d",
   "metadata": {
    "execution": {
     "iopub.execute_input": "2025-08-10T22:14:35.189138Z",
     "iopub.status.busy": "2025-08-10T22:14:35.188958Z",
     "iopub.status.idle": "2025-08-10T22:14:35.196001Z",
     "shell.execute_reply": "2025-08-10T22:14:35.195342Z"
    }
   },
   "outputs": [
    {
     "data": {
      "text/html": [
       "<p style=\"text-align:center;\">$1 -  az$</p>"
      ],
      "text/latex": [
       "$1 -  az$"
      ],
      "text/plain": [
       "(0, [Fraction(1, 1), -a])"
      ]
     },
     "execution_count": 3,
     "metadata": {},
     "output_type": "execute_result"
    }
   ],
   "source": [
    "p=SerieConPrincipio([1,-a],0)\n",
    "p"
   ]
  },
  {
   "cell_type": "markdown",
   "id": "713bdbc6-8692-4802-b745-96ece4b88e13",
   "metadata": {},
   "source": [
    "Su inversa $p^{-\\triangleright}$ (en el conjunto de series *con principio*) es:\n",
    "\n"
   ]
  },
  {
   "cell_type": "code",
   "execution_count": 4,
   "id": "1ab38c68-5f48-4d73-ba8c-872190e4ab39",
   "metadata": {
    "execution": {
     "iopub.execute_input": "2025-08-10T22:14:35.197832Z",
     "iopub.status.busy": "2025-08-10T22:14:35.197616Z",
     "iopub.status.idle": "2025-08-10T22:14:35.232069Z",
     "shell.execute_reply": "2025-08-10T22:14:35.231431Z"
    }
   },
   "outputs": [
    {
     "data": {
      "text/html": [
       "<p style=\"text-align:center;\">$1 + az + a^{2}z^{2} + a^{3}z^{3} + a^{4}z^{4} + \\cdots$</p>"
      ],
      "text/latex": [
       "$1 + az + a^{2}z^{2} + a^{3}z^{3} + a^{4}z^{4} + \\cdots$"
      ],
      "text/plain": [
       "(0, [Fraction(1, 1), a, a**2, a**3, a**4])"
      ]
     },
     "execution_count": 4,
     "metadata": {},
     "output_type": "execute_result"
    }
   ],
   "source": [
    "p.inversa()"
   ]
  },
  {
   "cell_type": "markdown",
   "id": "539c1b8d-18e9-4b2f-94a0-72b40d590e4c",
   "metadata": {},
   "source": [
    "Fíjese que su inversa (*con principio*) tiene cogrado -0.\n",
    "\n"
   ]
  },
  {
   "cell_type": "markdown",
   "id": "ecddb98d-993c-40dc-9e60-44f41ef3e6cd",
   "metadata": {
    "slideshow": {
     "slide_type": "skip"
    }
   },
   "source": [
    "**Nota.** Al haber creado este polinomio como un elemento de la clase `SerieConPrincipio`, el procedimiento `.inversa()` genera la inversa como una serie con principio (con cogrado). A esta inversa la hemos denotado con $p^{-\\triangleright}$ en la lección correspondiente.\n",
    "\n"
   ]
  },
  {
   "cell_type": "markdown",
   "id": "a9125cad-19bc-4361-ae18-3ebedfba0c4d",
   "metadata": {
    "slideshow": {
     "slide_type": "skip"
    }
   },
   "source": [
    "Mediante gráficos podemos ver el comportamiento de los coeficientes para distintos valores del parámetro $a$. Para estos dibujos calcularemos 15 coeficientes y sustituiremos el parámetro $a$ por un `valor` concreto en cada caso.\n",
    "\n"
   ]
  },
  {
   "cell_type": "markdown",
   "id": "ad5bcb22-13c7-4e25-84f0-bcf1b224b655",
   "metadata": {
    "slideshow": {
     "slide_type": "subslide"
    }
   },
   "source": [
    "##### Para valores de $a$ menores a 1 en valor absoluto (**raíz fuera del círculo unidad**)\n",
    "\n"
   ]
  },
  {
   "cell_type": "code",
   "execution_count": 5,
   "id": "4976c70f-2475-40d9-948e-9a7fa2cbd0c4",
   "metadata": {
    "execution": {
     "iopub.execute_input": "2025-08-10T22:14:35.234278Z",
     "iopub.status.busy": "2025-08-10T22:14:35.234087Z",
     "iopub.status.idle": "2025-08-10T22:14:35.537263Z",
     "shell.execute_reply": "2025-08-10T22:14:35.536650Z"
    }
   },
   "outputs": [
    {
     "data": {
      "image/png": "[encoded data removed]",
      "text/plain": [
       "<Figure size 800x400 with 1 Axes>"
      ]
     },
     "metadata": {},
     "output_type": "display_data"
    }
   ],
   "source": [
    "valor = 0.8\n",
    "p.inversa(15).subs((a,valor)).plot_serie(title='$a='+str(valor)+'$')"
   ]
  },
  {
   "cell_type": "code",
   "execution_count": 6,
   "id": "5a118d7a-8558-483f-8d9b-015c06b39436",
   "metadata": {
    "execution": {
     "iopub.execute_input": "2025-08-10T22:14:35.539208Z",
     "iopub.status.busy": "2025-08-10T22:14:35.539013Z",
     "iopub.status.idle": "2025-08-10T22:14:35.714307Z",
     "shell.execute_reply": "2025-08-10T22:14:35.713597Z"
    },
    "slideshow": {
     "slide_type": "subslide"
    }
   },
   "outputs": [
    {
     "data": {
      "image/png": "[encoded data removed]",
      "text/plain": [
       "<Figure size 800x400 with 1 Axes>"
      ]
     },
     "metadata": {},
     "output_type": "display_data"
    }
   ],
   "source": [
    "valor = -0.8\n",
    "p.inversa(15).subs((a,valor)).plot_serie(title='$a='+str(valor)+'$')"
   ]
  },
  {
   "cell_type": "markdown",
   "id": "ea155fed-e06d-49c9-88b6-a4323f687083",
   "metadata": {},
   "source": [
    "*Para polinomios con raíces fuera del círculo unidad los coeficientes de la inversa* (con principio $p^{-\\triangleright}$) *se aproximan a 0 cuando los índices crecen.* \n",
    "\n",
    "Éste es el caso en el que  $p^{-\\triangleright}=p^{-1}$ (inversa absolutamente sumable).\n",
    "\n"
   ]
  },
  {
   "cell_type": "markdown",
   "id": "41efcb60-1b75-4f9f-b32d-469c42969224",
   "metadata": {
    "slideshow": {
     "slide_type": "subslide"
    }
   },
   "source": [
    "##### Para valores de $a$ iguales a 1 en valor absoluto (**raíz sobre el círculo unidad**)\n",
    "\n"
   ]
  },
  {
   "cell_type": "code",
   "execution_count": 7,
   "id": "017a013f-7f1a-49a2-995b-58520d5d935e",
   "metadata": {
    "execution": {
     "iopub.execute_input": "2025-08-10T22:14:35.716499Z",
     "iopub.status.busy": "2025-08-10T22:14:35.716304Z",
     "iopub.status.idle": "2025-08-10T22:14:35.832068Z",
     "shell.execute_reply": "2025-08-10T22:14:35.831298Z"
    }
   },
   "outputs": [
    {
     "data": {
      "image/png": "[encoded data removed]",
      "text/plain": [
       "<Figure size 800x400 with 1 Axes>"
      ]
     },
     "metadata": {},
     "output_type": "display_data"
    }
   ],
   "source": [
    "valor = 1\n",
    "p.inversa(15).subs((a,valor)).plot_serie(title='$a='+str(valor)+'$')"
   ]
  },
  {
   "cell_type": "code",
   "execution_count": 8,
   "id": "4fd5b9a4-a23f-4912-a92e-a71d59d9b0f9",
   "metadata": {
    "execution": {
     "iopub.execute_input": "2025-08-10T22:14:35.834441Z",
     "iopub.status.busy": "2025-08-10T22:14:35.834206Z",
     "iopub.status.idle": "2025-08-10T22:14:35.964875Z",
     "shell.execute_reply": "2025-08-10T22:14:35.964206Z"
    },
    "slideshow": {
     "slide_type": "subslide"
    }
   },
   "outputs": [
    {
     "data": {
      "image/png": "[encoded data removed]",
      "text/plain": [
       "<Figure size 800x400 with 1 Axes>"
      ]
     },
     "metadata": {},
     "output_type": "display_data"
    }
   ],
   "source": [
    "valor = -1\n",
    "p.inversa(15).subs((a,valor)).plot_serie(title='$a='+str(valor)+'$')"
   ]
  },
  {
   "cell_type": "markdown",
   "id": "91ffaee6-a2fd-4399-8e1e-52b94ff767cb",
   "metadata": {},
   "source": [
    "*Para polinomios con raíces en el círculo unidad los coeficientes de la inversa mantienen patrones estables.*\n",
    "\n"
   ]
  },
  {
   "cell_type": "markdown",
   "id": "342dfaa5-cc51-447b-ac8b-d7a72eab20c5",
   "metadata": {
    "slideshow": {
     "slide_type": "subslide"
    }
   },
   "source": [
    "##### Para valores de $a$ mayores a 1 en valor absoluto (**raíz en el interior del círculo unidad**)\n",
    "\n"
   ]
  },
  {
   "cell_type": "code",
   "execution_count": 9,
   "id": "08589fb2-c8c3-428b-8d3d-18c107d75496",
   "metadata": {
    "execution": {
     "iopub.execute_input": "2025-08-10T22:14:35.967028Z",
     "iopub.status.busy": "2025-08-10T22:14:35.966823Z",
     "iopub.status.idle": "2025-08-10T22:14:36.091995Z",
     "shell.execute_reply": "2025-08-10T22:14:36.091292Z"
    }
   },
   "outputs": [
    {
     "data": {
      "image/png": "[encoded data removed]",
      "text/plain": [
       "<Figure size 800x400 with 1 Axes>"
      ]
     },
     "metadata": {},
     "output_type": "display_data"
    }
   ],
   "source": [
    "valor = 1.2\n",
    "p.inversa(15).subs((a,valor)).plot_serie(title='$a='+str(valor)+'$')"
   ]
  },
  {
   "cell_type": "code",
   "execution_count": 10,
   "id": "ede8ad83-03b0-4506-b6f2-c973b7aa0389",
   "metadata": {
    "execution": {
     "iopub.execute_input": "2025-08-10T22:14:36.094036Z",
     "iopub.status.busy": "2025-08-10T22:14:36.093838Z",
     "iopub.status.idle": "2025-08-10T22:14:36.210153Z",
     "shell.execute_reply": "2025-08-10T22:14:36.209536Z"
    },
    "slideshow": {
     "slide_type": "subslide"
    }
   },
   "outputs": [
    {
     "data": {
      "image/png": "[encoded data removed]",
      "text/plain": [
       "<Figure size 800x400 with 1 Axes>"
      ]
     },
     "metadata": {},
     "output_type": "display_data"
    }
   ],
   "source": [
    "valor = -1.2\n",
    "p.inversa(15).subs((a,valor)).plot_serie(title='$a='+str(valor)+'$')"
   ]
  },
  {
   "cell_type": "markdown",
   "id": "aa72eee1-5c8f-4739-b5da-0155919ee781",
   "metadata": {},
   "source": [
    "*Para polinomios con raíces dentro del círculo unidad los coeficientes de la inversa* (con principio $p^{-\\triangleright}$) *crecen exponencialmente cuando los índices crecen.*\n",
    "\n"
   ]
  },
  {
   "cell_type": "markdown",
   "id": "4d4dab9b-87d3-4ead-b781-aa76bd32ba20",
   "metadata": {
    "slideshow": {
     "slide_type": "skip"
    }
   },
   "source": [
    "Recuerde que **la inversa de un polinomio es una serie con infinitos términos**. Como esta implementación en Python solo calcula una cantidad finita de términos, el producto del polinomio por la serie calculada no es exactamente $1$, aunque nos podemos aproximar a la inversa tanto como queramos (dentro de las capacidades del ordenador).\n",
    "\n"
   ]
  },
  {
   "cell_type": "markdown",
   "id": "5af80ccd-8a62-427c-b9f9-4ea468ea51b9",
   "metadata": {
    "slideshow": {
     "slide_type": "skip"
    }
   },
   "source": [
    "Si calculamos solo cinco términos de la inversa, se anulan todos los coeficientes excepto el quinto (y el $1$ de la posición $0$):\n",
    "\n"
   ]
  },
  {
   "cell_type": "code",
   "execution_count": 11,
   "id": "7c63a89a-8363-4aa8-a9bc-0b84ec095b38",
   "metadata": {
    "execution": {
     "iopub.execute_input": "2025-08-10T22:14:36.212301Z",
     "iopub.status.busy": "2025-08-10T22:14:36.212111Z",
     "iopub.status.idle": "2025-08-10T22:14:36.217344Z",
     "shell.execute_reply": "2025-08-10T22:14:36.216813Z"
    },
    "slideshow": {
     "slide_type": "skip"
    }
   },
   "outputs": [
    {
     "data": {
      "text/html": [
       "<p style=\"text-align:center;\">$1 -  a^{5}z^{5}$</p>"
      ],
      "text/latex": [
       "$1 -  a^{5}z^{5}$"
      ],
      "text/plain": [
       "(0, [Fraction(1, 1), 0, 0, 0, 0, -a**5])"
      ]
     },
     "execution_count": 11,
     "metadata": {},
     "output_type": "execute_result"
    }
   ],
   "source": [
    "p * p.inversa()"
   ]
  },
  {
   "cell_type": "markdown",
   "id": "4d8de8e8-267f-465f-a9f8-c64c1b3b1e90",
   "metadata": {
    "slideshow": {
     "slide_type": "skip"
    }
   },
   "source": [
    "Con solo cincuenta términos se anulan todos excepto el quincuagésimo (y el $1$ de la posición $0$):\n",
    "\n"
   ]
  },
  {
   "cell_type": "code",
   "execution_count": 12,
   "id": "297fd0a2-da08-4ffa-a4ed-ee0d46f249f1",
   "metadata": {
    "execution": {
     "iopub.execute_input": "2025-08-10T22:14:36.219206Z",
     "iopub.status.busy": "2025-08-10T22:14:36.219032Z",
     "iopub.status.idle": "2025-08-10T22:14:36.236272Z",
     "shell.execute_reply": "2025-08-10T22:14:36.235721Z"
    },
    "slideshow": {
     "slide_type": "skip"
    }
   },
   "outputs": [
    {
     "data": {
      "text/html": [
       "<p style=\"text-align:center;\">$1 -  a^{50}z^{50}$</p>"
      ],
      "text/latex": [
       "$1 -  a^{50}z^{50}$"
      ],
      "text/plain": [
       "(0, [Fraction(1, 1), 0, 0, 0, 0, 0, 0, 0, 0, 0, 0, 0, 0, 0, 0, 0, 0, 0, 0, 0, 0, 0, 0, 0, 0, 0, 0, 0, 0, 0, 0, 0, 0, 0, 0, 0, 0, 0, 0, 0, 0, 0, 0, 0, 0, 0, 0, 0, 0, 0, -a**50])"
      ]
     },
     "execution_count": 12,
     "metadata": {},
     "output_type": "execute_result"
    }
   ],
   "source": [
    "p * p.inversa(50)"
   ]
  },
  {
   "cell_type": "markdown",
   "id": "033d15d1-ef74-40be-b2ed-2d0b1b09f6e9",
   "metadata": {
    "slideshow": {
     "slide_type": "skip"
    }
   },
   "source": [
    "Con quinientos se anulan todos excepto el parámetro en la posición 500 (y el $1$ de la posición $0$):\n",
    "\n"
   ]
  },
  {
   "cell_type": "code",
   "execution_count": 13,
   "id": "302444db-318f-4a08-863c-b74852c734bf",
   "metadata": {
    "execution": {
     "iopub.execute_input": "2025-08-10T22:14:36.238129Z",
     "iopub.status.busy": "2025-08-10T22:14:36.237954Z",
     "iopub.status.idle": "2025-08-10T22:14:36.399250Z",
     "shell.execute_reply": "2025-08-10T22:14:36.398565Z"
    },
    "slideshow": {
     "slide_type": "skip"
    }
   },
   "outputs": [
    {
     "data": {
      "text/html": [
       "<p style=\"text-align:center;\">$1 -  a^{500}z^{500}$</p>"
      ],
      "text/latex": [
       "$1 -  a^{500}z^{500}$"
      ],
      "text/plain": [
       "(0, [Fraction(1, 1), 0, 0, 0, 0, 0, 0, 0, 0, 0, 0, 0, 0, 0, 0, 0, 0, 0, 0, 0, 0, 0, 0, 0, 0, 0, 0, 0, 0, 0, 0, 0, 0, 0, 0, 0, 0, 0, 0, 0, 0, 0, 0, 0, 0, 0, 0, 0, 0, 0, 0, 0, 0, 0, 0, 0, 0, 0, 0, 0, 0, 0, 0, 0, 0, 0, 0, 0, 0, 0, 0, 0, 0, 0, 0, 0, 0, 0, 0, 0, 0, 0, 0, 0, 0, 0, 0, 0, 0, 0, 0, 0, 0, 0, 0, 0, 0, 0, 0, 0, 0, 0, 0, 0, 0, 0, 0, 0, 0, 0, 0, 0, 0, 0, 0, 0, 0, 0, 0, 0, 0, 0, 0, 0, 0, 0, 0, 0, 0, 0, 0, 0, 0, 0, 0, 0, 0, 0, 0, 0, 0, 0, 0, 0, 0, 0, 0, 0, 0, 0, 0, 0, 0, 0, 0, 0, 0, 0, 0, 0, 0, 0, 0, 0, 0, 0, 0, 0, 0, 0, 0, 0, 0, 0, 0, 0, 0, 0, 0, 0, 0, 0, 0, 0, 0, 0, 0, 0, 0, 0, 0, 0, 0, 0, 0, 0, 0, 0, 0, 0, 0, 0, 0, 0, 0, 0, 0, 0, 0, 0, 0, 0, 0, 0, 0, 0, 0, 0, 0, 0, 0, 0, 0, 0, 0, 0, 0, 0, 0, 0, 0, 0, 0, 0, 0, 0, 0, 0, 0, 0, 0, 0, 0, 0, 0, 0, 0, 0, 0, 0, 0, 0, 0, 0, 0, 0, 0, 0, 0, 0, 0, 0, 0, 0, 0, 0, 0, 0, 0, 0, 0, 0, 0, 0, 0, 0, 0, 0, 0, 0, 0, 0, 0, 0, 0, 0, 0, 0, 0, 0, 0, 0, 0, 0, 0, 0, 0, 0, 0, 0, 0, 0, 0, 0, 0, 0, 0, 0, 0, 0, 0, 0, 0, 0, 0, 0, 0, 0, 0, 0, 0, 0, 0, 0, 0, 0, 0, 0, 0, 0, 0, 0, 0, 0, 0, 0, 0, 0, 0, 0, 0, 0, 0, 0, 0, 0, 0, 0, 0, 0, 0, 0, 0, 0, 0, 0, 0, 0, 0, 0, 0, 0, 0, 0, 0, 0, 0, 0, 0, 0, 0, 0, 0, 0, 0, 0, 0, 0, 0, 0, 0, 0, 0, 0, 0, 0, 0, 0, 0, 0, 0, 0, 0, 0, 0, 0, 0, 0, 0, 0, 0, 0, 0, 0, 0, 0, 0, 0, 0, 0, 0, 0, 0, 0, 0, 0, 0, 0, 0, 0, 0, 0, 0, 0, 0, 0, 0, 0, 0, 0, 0, 0, 0, 0, 0, 0, 0, 0, 0, 0, 0, 0, 0, 0, 0, 0, 0, 0, 0, 0, 0, 0, 0, 0, 0, 0, 0, 0, 0, 0, 0, 0, 0, 0, 0, 0, 0, 0, 0, 0, 0, 0, 0, 0, 0, 0, 0, 0, 0, 0, 0, 0, 0, 0, 0, 0, 0, 0, 0, 0, 0, 0, 0, 0, 0, 0, 0, 0, 0, 0, -a**500])"
      ]
     },
     "execution_count": 13,
     "metadata": {},
     "output_type": "execute_result"
    }
   ],
   "source": [
    "p * p.inversa(500)"
   ]
  },
  {
   "cell_type": "markdown",
   "id": "2e41ed75-22e4-47e7-85e9-ff57598e234b",
   "metadata": {
    "slideshow": {
     "slide_type": "skip"
    }
   },
   "source": [
    "Fíjese que si $a\\ne0$, el producto `p*(p.inversa(500))` no calcula exactamente la serie $1$ (la que tienen un $1$ en la posición $0$ y es nula en todas las demás posiciones). Nótese que la componente correspondiente a la posición 500 es distinta de cero (su magnitud es $a^{500}$). Por tanto, `p.inversa(500)` no es realmente la inversa de `p`. Fíjese que la serie `p.inversa(500)` solo tiene 500 términos no nulos; sin embargo, la serie (con cogrado) que verdaderamente es inversa del polinomio `p` requiere de infinitos términos no nulos (algo que esta implementación en Python no calcula).\n",
    "\n"
   ]
  },
  {
   "cell_type": "markdown",
   "id": "f9cef9fa-e2ae-446e-984f-a7e5cf2b1df7",
   "metadata": {
    "slideshow": {
     "slide_type": "slide"
    }
   },
   "source": [
    "#### Polinomio como `SerieConFinal`\n",
    "\n"
   ]
  },
  {
   "cell_type": "markdown",
   "id": "942fd04a-c612-409a-8d77-cf4837ec67b7",
   "metadata": {},
   "source": [
    "Ahora vamos a definir exactamente el mismo polinomio, pero en esta ocasión lo haremos como una `SerieConFinal` (con `grado` igual a 1).\n",
    "\n"
   ]
  },
  {
   "cell_type": "code",
   "execution_count": 14,
   "id": "d6df6766-76c1-4f2d-bb7b-4384fc9ac43e",
   "metadata": {
    "execution": {
     "iopub.execute_input": "2025-08-10T22:14:36.401277Z",
     "iopub.status.busy": "2025-08-10T22:14:36.401092Z",
     "iopub.status.idle": "2025-08-10T22:14:36.405633Z",
     "shell.execute_reply": "2025-08-10T22:14:36.404982Z"
    }
   },
   "outputs": [
    {
     "data": {
      "text/html": [
       "<p style=\"text-align:center;\">$1 -  az$</p>"
      ],
      "text/latex": [
       "$1 -  az$"
      ],
      "text/plain": [
       "(1, [Fraction(1, 1), -a])"
      ]
     },
     "execution_count": 14,
     "metadata": {},
     "output_type": "execute_result"
    }
   ],
   "source": [
    "p2=SerieConFinal([1,-a],1)\n",
    "p2"
   ]
  },
  {
   "cell_type": "markdown",
   "id": "d0f8d7e3-7442-454b-8ef8-7d381c4db94c",
   "metadata": {},
   "source": [
    "Su inversa $p^{\\blacktriangleleft-}$ (en el conjunto de series *con final*) es:\n",
    "\n"
   ]
  },
  {
   "cell_type": "code",
   "execution_count": 15,
   "id": "35955daf-34d4-4fbe-a9d0-4ed9ebf18002",
   "metadata": {
    "execution": {
     "iopub.execute_input": "2025-08-10T22:14:36.407440Z",
     "iopub.status.busy": "2025-08-10T22:14:36.407248Z",
     "iopub.status.idle": "2025-08-10T22:14:36.413977Z",
     "shell.execute_reply": "2025-08-10T22:14:36.413417Z"
    }
   },
   "outputs": [
    {
     "data": {
      "text/html": [
       "<p style=\"text-align:center;\">$\\cdots -  \\frac{1}{a^{5}}z^{-5} -  \\frac{1}{a^{4}}z^{-4} -  \\frac{1}{a^{3}}z^{-3} -  \\frac{1}{a^{2}}z^{-2} -  \\frac{1}{a}z^{-1}$</p>"
      ],
      "text/latex": [
       "$\\cdots -  \\frac{1}{a^{5}}z^{-5} -  \\frac{1}{a^{4}}z^{-4} -  \\frac{1}{a^{3}}z^{-3} -  \\frac{1}{a^{2}}z^{-2} -  \\frac{1}{a}z^{-1}$"
      ],
      "text/plain": [
       "(-1, [-1/a**5, -1/a**4, -1/a**3, -1/a**2, -1/a])"
      ]
     },
     "execution_count": 15,
     "metadata": {},
     "output_type": "execute_result"
    }
   ],
   "source": [
    "p2.inversa()"
   ]
  },
  {
   "cell_type": "markdown",
   "id": "3bbccd2c-667f-4851-a677-26c7ae35d888",
   "metadata": {},
   "source": [
    "Fíjese que como el grado del polinomio `p2` es 1, el grado de $p^{\\blacktriangleleft-}$ es $-1.$\n",
    "\n"
   ]
  },
  {
   "cell_type": "markdown",
   "id": "db710550-38be-4396-b6fb-4cda4e750f26",
   "metadata": {
    "slideshow": {
     "slide_type": "skip"
    }
   },
   "source": [
    "**Nota.** Al haber creado este polinomio como un elemento de la clase `SerieConFinal`, el procedimiento `.inversa()` genera la inversa como una serie con final (con grado). A esta inversa la hemos denotado con $p^{\\blacktriangleleft-}$ en la lección correspondiente.\n",
    "\n"
   ]
  },
  {
   "cell_type": "markdown",
   "id": "d8cb8290-80c1-4a61-8f48-2337b961d579",
   "metadata": {
    "slideshow": {
     "slide_type": "skip"
    }
   },
   "source": [
    "Veamos con unos gráficos el comportamiento de los coeficientes de esta nueva inversa $p^{\\blacktriangleleft-}$ para distintos valores del parámetro $a$.\n",
    "\n"
   ]
  },
  {
   "cell_type": "markdown",
   "id": "a0d7007d-022b-4bca-b217-6bd11c4e0eaf",
   "metadata": {
    "slideshow": {
     "slide_type": "subslide"
    }
   },
   "source": [
    "##### Para valores de $a$ menores a 1 en valor absoluto (**raíz fuera del círculo unidad**)\n",
    "\n"
   ]
  },
  {
   "cell_type": "code",
   "execution_count": 16,
   "id": "b0c62457-cc6b-4e4d-ba27-6d454126d435",
   "metadata": {
    "execution": {
     "iopub.execute_input": "2025-08-10T22:14:36.416087Z",
     "iopub.status.busy": "2025-08-10T22:14:36.415899Z",
     "iopub.status.idle": "2025-08-10T22:14:36.542630Z",
     "shell.execute_reply": "2025-08-10T22:14:36.541900Z"
    }
   },
   "outputs": [
    {
     "data": {
      "image/png": "[encoded data removed]",
      "text/plain": [
       "<Figure size 800x400 with 1 Axes>"
      ]
     },
     "metadata": {},
     "output_type": "display_data"
    }
   ],
   "source": [
    "valor = 0.8\n",
    "p2.inversa(15).subs((a,valor)).plot_serie(title='$a='+str(valor)+'$')"
   ]
  },
  {
   "cell_type": "code",
   "execution_count": 17,
   "id": "2e18b0d6-376c-4d35-a88c-0c54549af4c2",
   "metadata": {
    "execution": {
     "iopub.execute_input": "2025-08-10T22:14:36.544891Z",
     "iopub.status.busy": "2025-08-10T22:14:36.544670Z",
     "iopub.status.idle": "2025-08-10T22:14:36.671439Z",
     "shell.execute_reply": "2025-08-10T22:14:36.670764Z"
    },
    "slideshow": {
     "slide_type": "subslide"
    }
   },
   "outputs": [
    {
     "data": {
      "image/png": "[encoded data removed]",
      "text/plain": [
       "<Figure size 800x400 with 1 Axes>"
      ]
     },
     "metadata": {},
     "output_type": "display_data"
    }
   ],
   "source": [
    "valor = -0.8\n",
    "p2.inversa(15).subs((a,valor)).plot_serie(title='$a='+str(valor)+'$')"
   ]
  },
  {
   "cell_type": "markdown",
   "id": "945596b8-a434-4bdb-8949-e43715f8155d",
   "metadata": {},
   "source": [
    "*Para polinomios con raíces fuera del círculo unidad los coeficientes de la inversa* (con final $p^{\\blacktriangleleft-}$) *crecen exponencialmente cuando los índices decrecen.*\n",
    "\n"
   ]
  },
  {
   "cell_type": "markdown",
   "id": "9be3bce9-a85e-45ee-86ff-17cde943953a",
   "metadata": {
    "slideshow": {
     "slide_type": "subslide"
    }
   },
   "source": [
    "##### Para valores de $a$ iguales a 1 en valor absoluto (**raíz sobre el círculo unidad**)\n",
    "\n"
   ]
  },
  {
   "cell_type": "code",
   "execution_count": 18,
   "id": "8c2a2978-dbde-4101-809a-32171dc46d17",
   "metadata": {
    "execution": {
     "iopub.execute_input": "2025-08-10T22:14:36.673699Z",
     "iopub.status.busy": "2025-08-10T22:14:36.673503Z",
     "iopub.status.idle": "2025-08-10T22:14:36.790253Z",
     "shell.execute_reply": "2025-08-10T22:14:36.789677Z"
    }
   },
   "outputs": [
    {
     "data": {
      "image/png": "[encoded data removed]",
      "text/plain": [
       "<Figure size 800x400 with 1 Axes>"
      ]
     },
     "metadata": {},
     "output_type": "display_data"
    }
   ],
   "source": [
    "valor = 1\n",
    "p2.inversa(15).subs((a,valor)).plot_serie(title='$a='+str(valor)+'$')"
   ]
  },
  {
   "cell_type": "code",
   "execution_count": 19,
   "id": "6055ba80-f207-4db2-ac22-fa7193782fe9",
   "metadata": {
    "execution": {
     "iopub.execute_input": "2025-08-10T22:14:36.792111Z",
     "iopub.status.busy": "2025-08-10T22:14:36.791928Z",
     "iopub.status.idle": "2025-08-10T22:14:36.919496Z",
     "shell.execute_reply": "2025-08-10T22:14:36.918760Z"
    },
    "slideshow": {
     "slide_type": "subslide"
    }
   },
   "outputs": [
    {
     "data": {
      "image/png": "[encoded data removed]",
      "text/plain": [
       "<Figure size 800x400 with 1 Axes>"
      ]
     },
     "metadata": {},
     "output_type": "display_data"
    }
   ],
   "source": [
    "valor = -1\n",
    "p2.inversa(15).subs((a,valor)).plot_serie(title='$a='+str(valor)+'$')"
   ]
  },
  {
   "cell_type": "markdown",
   "id": "cd3f0450-e341-4b95-8256-eaaa88d41648",
   "metadata": {},
   "source": [
    "*Para polinomios con raíces en el círculo unidad los coeficientes de la inversa mantienen patrones estables.*\n",
    "\n"
   ]
  },
  {
   "cell_type": "markdown",
   "id": "697e7c4f-8123-40da-b2dc-c67556fc98a8",
   "metadata": {
    "slideshow": {
     "slide_type": "subslide"
    }
   },
   "source": [
    "##### Para valores de $a$ mayores a 1 en valor absoluto (**raíz en el interior del círculo unidad**)\n",
    "\n"
   ]
  },
  {
   "cell_type": "code",
   "execution_count": 20,
   "id": "45d0bf9d-d835-4634-8664-f68f297e2cfd",
   "metadata": {
    "execution": {
     "iopub.execute_input": "2025-08-10T22:14:36.921502Z",
     "iopub.status.busy": "2025-08-10T22:14:36.921314Z",
     "iopub.status.idle": "2025-08-10T22:14:37.040429Z",
     "shell.execute_reply": "2025-08-10T22:14:37.039840Z"
    }
   },
   "outputs": [
    {
     "data": {
      "image/png": "[encoded data removed]",
      "text/plain": [
       "<Figure size 800x400 with 1 Axes>"
      ]
     },
     "metadata": {},
     "output_type": "display_data"
    }
   ],
   "source": [
    "valor = 1.2\n",
    "p2.inversa(15).subs((a,valor)).plot_serie(title='$a='+str(valor)+'$')"
   ]
  },
  {
   "cell_type": "code",
   "execution_count": 21,
   "id": "34be0c0a-6628-42b9-883a-4b9bd3eee8d5",
   "metadata": {
    "execution": {
     "iopub.execute_input": "2025-08-10T22:14:37.042330Z",
     "iopub.status.busy": "2025-08-10T22:14:37.042132Z",
     "iopub.status.idle": "2025-08-10T22:14:37.171606Z",
     "shell.execute_reply": "2025-08-10T22:14:37.170918Z"
    },
    "slideshow": {
     "slide_type": "subslide"
    }
   },
   "outputs": [
    {
     "data": {
      "image/png": "[encoded data removed]",
      "text/plain": [
       "<Figure size 800x400 with 1 Axes>"
      ]
     },
     "metadata": {},
     "output_type": "display_data"
    }
   ],
   "source": [
    "valor = -1.2\n",
    "p2.inversa(15).subs((a,valor)).plot_serie(title='$a='+str(valor)+'$')"
   ]
  },
  {
   "cell_type": "markdown",
   "id": "bca6ebd0-0c77-4d3c-aa27-41864a166c01",
   "metadata": {},
   "source": [
    "*Para valores de $a$ mayores a 1 en valor absoluto los coeficientes de la inversa* (con final $p^{\\blacktriangleleft-}$) *se aproximan a 0 cuando los índices decrecen.* \n",
    "\n",
    "Este es el caso en el que  $p^{\\blacktriangleleft-}=p^{-1}$ (inversa absolutamente sumable).\n",
    "\n"
   ]
  },
  {
   "cell_type": "markdown",
   "id": "b9dcfaab-7c7e-4776-8a01-66171fe27e15",
   "metadata": {
    "slideshow": {
     "slide_type": "skip"
    }
   },
   "source": [
    "### Otro ejemplo de serie y dos inversas\n",
    "\n"
   ]
  },
  {
   "cell_type": "code",
   "execution_count": 22,
   "id": "33a92be5-66e3-4fc3-8c6a-18451502e998",
   "metadata": {
    "execution": {
     "iopub.execute_input": "2025-08-10T22:14:37.173692Z",
     "iopub.status.busy": "2025-08-10T22:14:37.173491Z",
     "iopub.status.idle": "2025-08-10T22:14:37.178247Z",
     "shell.execute_reply": "2025-08-10T22:14:37.177587Z"
    },
    "slideshow": {
     "slide_type": "skip"
    }
   },
   "outputs": [
    {
     "data": {
      "text/html": [
       "<p style=\"text-align:center;\">$z^{-1} - 0.1 - 0.75z$</p>"
      ],
      "text/latex": [
       "$z^{-1} - 0.1 - 0.75z$"
      ],
      "text/plain": [
       "(-1, [1.0, -0.1, -0.75])"
      ]
     },
     "execution_count": 22,
     "metadata": {},
     "output_type": "execute_result"
    }
   ],
   "source": [
    "lista = [1, -.1, -.75]\n",
    "s_cp = SerieConPrincipio(lista, -1)\n",
    "s_cp"
   ]
  },
  {
   "cell_type": "code",
   "execution_count": 23,
   "id": "baa6a75a-6295-4fc2-a234-ebb0cedd9c31",
   "metadata": {
    "execution": {
     "iopub.execute_input": "2025-08-10T22:14:37.180024Z",
     "iopub.status.busy": "2025-08-10T22:14:37.179836Z",
     "iopub.status.idle": "2025-08-10T22:14:37.406025Z",
     "shell.execute_reply": "2025-08-10T22:14:37.405320Z"
    },
    "slideshow": {
     "slide_type": "skip"
    }
   },
   "outputs": [
    {
     "data": {
      "image/png": "[encoded data removed]",
      "text/plain": [
       "<Figure size 800x400 with 1 Axes>"
      ]
     },
     "metadata": {},
     "output_type": "display_data"
    }
   ],
   "source": [
    "s_cp.inversa(30).plot_serie(title='inversa con principio de ' + s_cp._repr_latex_())"
   ]
  },
  {
   "cell_type": "code",
   "execution_count": 24,
   "id": "2f0c013b-28a3-4119-84e8-3da60b1d2731",
   "metadata": {
    "execution": {
     "iopub.execute_input": "2025-08-10T22:14:37.408141Z",
     "iopub.status.busy": "2025-08-10T22:14:37.407944Z",
     "iopub.status.idle": "2025-08-10T22:14:37.412458Z",
     "shell.execute_reply": "2025-08-10T22:14:37.411810Z"
    },
    "slideshow": {
     "slide_type": "skip"
    }
   },
   "outputs": [
    {
     "data": {
      "text/html": [
       "<p style=\"text-align:center;\">$z^{-1} - 0.1 - 0.75z$</p>"
      ],
      "text/latex": [
       "$z^{-1} - 0.1 - 0.75z$"
      ],
      "text/plain": [
       "(1, [1.0, -0.1, -0.75])"
      ]
     },
     "execution_count": 24,
     "metadata": {},
     "output_type": "execute_result"
    }
   ],
   "source": [
    "s_cf=SerieConFinal(lista, 1)\n",
    "s_cf"
   ]
  },
  {
   "cell_type": "code",
   "execution_count": 25,
   "id": "8e811a0d-a852-4a23-8dcc-67f9a4b25e99",
   "metadata": {
    "execution": {
     "iopub.execute_input": "2025-08-10T22:14:37.414277Z",
     "iopub.status.busy": "2025-08-10T22:14:37.414095Z",
     "iopub.status.idle": "2025-08-10T22:14:37.574122Z",
     "shell.execute_reply": "2025-08-10T22:14:37.573342Z"
    },
    "slideshow": {
     "slide_type": "skip"
    }
   },
   "outputs": [
    {
     "data": {
      "image/png": "[encoded data removed]",
      "text/plain": [
       "<Figure size 800x400 with 1 Axes>"
      ]
     },
     "metadata": {},
     "output_type": "display_data"
    }
   ],
   "source": [
    "s_cf.inversa(30).plot_serie(title='inversa con final de ' + s_cp._repr_latex_())"
   ]
  },
  {
   "cell_type": "markdown",
   "id": "aa234796-5931-4021-8476-e51cc66f6ca8",
   "metadata": {
    "slideshow": {
     "slide_type": "slide"
    }
   },
   "source": [
    "## Implementación de series con principio y series con final\n",
    "\n"
   ]
  },
  {
   "cell_type": "markdown",
   "id": "fc3fb4f9-566a-4a90-ab8c-3ce56226ef76",
   "metadata": {
    "slideshow": {
     "slide_type": "skip"
    }
   },
   "source": [
    "### Clase `SerieConPrincipio`: series con cogrado arbitrario en Python\n",
    "\n"
   ]
  },
  {
   "cell_type": "markdown",
   "id": "86c7f03c-2518-4a5e-842b-8a0a7c528ca2",
   "metadata": {
    "slideshow": {
     "slide_type": "skip"
    }
   },
   "source": [
    "Este documento implementa en Python una clase llamada `SerieConPrincipio` que representa series formales con índice inicial (con cogrado) arbitrario y otra llamada `SerieConFinal` que representa series con índice final (con grado) arbitrario. Ello nos permitirá trabajar con series que comienzan, por ejemplo, en $ z^{-2} $ o $ z^3 $; y poder operar con ellas como si fueran polinomios infinitos, incluyendo suma, producto y cálculo de inversas.\n",
    "\n"
   ]
  },
  {
   "cell_type": "markdown",
   "id": "a7fe6fa0-8ab8-4d3e-8b0a-1fa7f6b7f5a9",
   "metadata": {
    "slideshow": {
     "slide_type": "skip"
    }
   },
   "source": [
    "#### Importación de librerías\n",
    "\n"
   ]
  },
  {
   "cell_type": "markdown",
   "id": "f11abb27-3d00-465f-8889-5498d96f89f0",
   "metadata": {
    "slideshow": {
     "slide_type": "skip"
    }
   },
   "source": [
    "Estas series podrán contener números racionales exactos (usando la clase `Fraction`) o flotantes, así como parámetros simbólicos. Por ello\n",
    "necesitamos `latex` y `Rational` de `sympy` para la representación como funciones generatrices en formato $\\LaTeX{}$, y `Fraction` para mantener exactitud.\n",
    "Con `sympy` podremos sustituir los parámetros simbólicos por valores concretos y con `matplotlib.pyplot` podremos representar gráficamente una parte de estas series.\n",
    "\n"
   ]
  },
  {
   "cell_type": "markdown",
   "id": "11e2b341-4a0e-4adb-ae93-416c351d3ba9",
   "metadata": {
    "slideshow": {
     "slide_type": "skip"
    }
   },
   "source": [
    "    from sympy import latex, Rational\n",
    "    from fractions import Fraction\n",
    "    import sympy\n",
    "    from sympy import Add\n",
    "    import matplotlib.pyplot as plt\n",
    "    from IPython.display import display, Math, display_png\n",
    "    import tempfile\n",
    "    from os.path import join           \n",
    "\n"
   ]
  },
  {
   "cell_type": "markdown",
   "id": "312aa3f8-813e-4beb-9d6c-7985f34921c0",
   "metadata": {
    "slideshow": {
     "slide_type": "skip"
    }
   },
   "source": [
    "#### Métodos generales para representar los objetos correctamente en Jupyter Notebook\n",
    "\n"
   ]
  },
  {
   "cell_type": "markdown",
   "id": "4032b03e-f20f-474f-8649-a5369f71aa38",
   "metadata": {
    "slideshow": {
     "slide_type": "skip"
    }
   },
   "source": [
    "    def html(TeX):\n",
    "        \"\"\" Plantilla HTML para insertar comandos LaTeX \"\"\"\n",
    "        return \"<p style=\\\"text-align:center;\\\">$\" + TeX + \"$</p>\"\n",
    "    \n",
    "    def latex(a):\n",
    "        \"\"\"Método latex general\"\"\"\n",
    "        try:\n",
    "            return a.latex()\n",
    "        except:\n",
    "            return sympy.latex(a)\n",
    "    \n",
    "    def pinta(data):\n",
    "        \"\"\"Muestra en Jupyter la representación latex de data\"\"\"\n",
    "        display(Math(latex(data)))\n",
    "\n"
   ]
  },
  {
   "cell_type": "markdown",
   "id": "661495d9-647e-40f6-8839-22e5821e8222",
   "metadata": {},
   "source": [
    "#### Declaración de la clase `SerieConPrincipio`\n",
    "\n"
   ]
  },
  {
   "cell_type": "markdown",
   "id": "66ff5a9f-0fc2-4bc5-bf5b-c5830bfd5f8b",
   "metadata": {},
   "source": [
    "Declaramos la clase `SerieConPrincipio` y la documentamos:\n",
    "\n",
    "    class SerieConPrincipio:\n",
    "        \"\"\"\n",
    "        Clase para representar series con un índice inicial arbitrario.\n",
    "    \n",
    "        Atributos:\n",
    "        - coeficientes (list): Lista de coeficientes de la serie, sin ceros iniciales.\n",
    "        - cogrado (int): Índice del primer coeficiente no nulo de la serie.\n",
    "        - usa_float (bool): Indica si la serie opera con números flotantes.\n",
    "        - final (bool): Indica si el final de la serie se representa con una elipsis.\n",
    "    \n",
    "        Métodos:\n",
    "        - __repr__: Representa la serie como un par (cogrado, lista de coeficientes).\n",
    "        - _repr_latex_: Representa la serie en formato LaTeX.\n",
    "        - __add__: Suma dos SerieConPrincipio.\n",
    "        - __mul__: Producto por un escalar o producto convolución entre SerieConPrincipio.\n",
    "        - __rmul__: Producto por un escalar desde la izquierda.\n",
    "        - inversa: Calcula la SerieConPrincipio inversa.\n",
    "        \"\"\"\n",
    "\n"
   ]
  },
  {
   "cell_type": "markdown",
   "id": "e1d5e0a2-f804-48fb-8168-4ea6636c9168",
   "metadata": {},
   "source": [
    "#### Constructor\n",
    "\n"
   ]
  },
  {
   "cell_type": "markdown",
   "id": "5857c8ed-4966-42a6-8b55-2ef6cc23e7a8",
   "metadata": {},
   "source": [
    "El constructor elimina ceros iniciales y ajusta el índice inicial (cogrado).\n",
    "\n",
    "    def __init__(self, coeficientes, cogrado=0, final=False):\n",
    "        primeros_no_nulos = next((i for i, c in enumerate(coeficientes) if c != 0), None)\n",
    "        if primeros_no_nulos is None:\n",
    "            self.coeficientes = []\n",
    "            self.cogrado = 0\n",
    "        else:\n",
    "            self.coeficientes = coeficientes[primeros_no_nulos:]\n",
    "            self.cogrado = cogrado + primeros_no_nulos\n",
    "    \n",
    "        self.final = final\n",
    "        self.usa_float = any(isinstance(c, float) for c in self.coeficientes if not hasattr(c, 'is_number'))\n",
    "        self.coeficientes = [\n",
    "            float(c) if self.usa_float and isinstance(c, (int, float)) else Fraction(c) if isinstance(c, (int, float)) else c\n",
    "            for c in self.coeficientes\n",
    "        ]\n",
    "\n"
   ]
  },
  {
   "cell_type": "markdown",
   "id": "8c67729e-dc4c-48f4-aeb3-e61b9aac8be2",
   "metadata": {},
   "source": [
    "#### Representaciones: texto y $\\LaTeX{}$\n",
    "\n"
   ]
  },
  {
   "cell_type": "markdown",
   "id": "26e794f8-ecfc-464f-b359-28886724f71c",
   "metadata": {},
   "source": [
    "Métodos para mostrar la serie como par ordenado `(cogrado, lista de coeficientes)` o en formato LaTeX. En los cuadernos electrónicos de Jupyter (Notebboks) se usa por defecto la representación $\\LaTeX{}$ como función generatriz. Y si la serie se ha calculado como una inversa, la representación termina con una elipsis ($\\cdots$) para recordar que la serie debería tener infinitos términos. Esta implementación no calcula infinitos términos, con `print(serie)` vemos su cogrado y una lista con los coeficientes que realmente se han calculado (por defecto son 5 si no se indica un número concreto).\n",
    "\n",
    "    def __repr__(self):\n",
    "        \"\"\"\n",
    "        Representa la serie como un par (cogrado, lista de coeficientes).\n",
    "    \n",
    "        Retorna:\n",
    "        - str: Representación de la serie como un par.\n",
    "        \"\"\"\n",
    "        return f\"({self.cogrado}, {self.coeficientes})\"\n",
    "    \n",
    "    def latex(self):\n",
    "        \"\"\"\n",
    "        Representa la serie en formato LaTeX.\n",
    "    \n",
    "        Retorna:\n",
    "        - str: Representación en formato LaTeX.\n",
    "        \"\"\"\n",
    "    \n",
    "        if not self.coeficientes:\n",
    "            return \"$0$\"\n",
    "    \n",
    "        terminos = []\n",
    "        for i, coef in enumerate(self.coeficientes):\n",
    "            indice = self.cogrado + i\n",
    "            if coef != 0:\n",
    "                coef_sympy = Rational(coef.numerator, coef.denominator) if isinstance(coef, Fraction) else coef\n",
    "                coef_latex = r\"\\left(\" + latex(coef_sympy) + r\"\\right)\" if  isinstance(coef_sympy, Add) else latex(coef_sympy)\n",
    "                if coef_sympy == -1 and indice != 0:\n",
    "                    coef_latex = \"-\"\n",
    "                if coef_sympy == 1 and indice != 0:\n",
    "                    coef_latex = \"\"\n",
    "                if indice == 0:\n",
    "                    terminos.append(f\"{coef_latex}\")\n",
    "                elif indice == 1:\n",
    "                    terminos.append(f\"{coef_latex}z\")\n",
    "                else:\n",
    "                    terminos.append(f\"{coef_latex}z^{{{indice}}}\")  # Aseguramos que el exponente esté entre llaves\n",
    "        cadena = r' + \\cdots' if self.final else ''\n",
    "        return \" + \".join(terminos).replace(\"+ -\", \"- \") + cadena \n",
    "    \n",
    "    def _repr_latex_(self):\n",
    "        \"\"\"\n",
    "        Representa la serie en formato LaTeX.\n",
    "    \n",
    "        Retorna:\n",
    "        - str: Representación en formato LaTeX para notebooks de Jupyter.\n",
    "        \"\"\"\n",
    "        return '$'+self.latex()+'$'\n",
    "    \n",
    "    def _repr_html_(self):\n",
    "        \"\"\" Construye la representación para el entorno jupyter notebook \"\"\"\n",
    "        return html(self.latex())\n",
    "    \n",
    "    #def _repr_png_(self):\n",
    "    #    \"\"\" Representación png para el entorno jupyter en Emacs \"\"\"\n",
    "    #    try:\n",
    "    #        expr = '$'+self.latex()+'$'\n",
    "    #        workdir = tempfile.mkdtemp()\n",
    "    #        with open(join(workdir, 'borrame.png'), 'wb') as outputfile:\n",
    "    #            sympy.preview(expr, viewer='BytesIO', outputbuffer=outputfile)\n",
    "    #        return open(join(workdir, 'borrame.png'),'rb').read()\n",
    "    #    except:\n",
    "    #        return '$'+self.latex()+'$'\n",
    "\n"
   ]
  },
  {
   "cell_type": "markdown",
   "id": "6020382a-02b6-4976-8086-6bff1ee35083",
   "metadata": {},
   "source": [
    "#### Suma de series\n",
    "\n"
   ]
  },
  {
   "cell_type": "markdown",
   "id": "5c335036-9f52-41ed-8197-10bb04523f55",
   "metadata": {},
   "source": [
    "La suma ajusta los índices y suma término a término.\n",
    "\n",
    "    def __add__(self, otra):\n",
    "        \"\"\"\n",
    "        Suma dos series.\n",
    "    \n",
    "        Parámetros:\n",
    "        - otra (SerieConPrincipio): Otra serie.\n",
    "    \n",
    "        Retorna:\n",
    "        - SerieConPrincipio: La serie resultante de la suma.\n",
    "        \"\"\"\n",
    "        cogrado = min(self.cogrado, otra.cogrado)\n",
    "        indice_final = max(\n",
    "            self.cogrado + len(self.coeficientes),\n",
    "            otra.cogrado + len(otra.coeficientes),\n",
    "        )\n",
    "        coeficientes = []\n",
    "        for i in range(cogrado, indice_final):\n",
    "            coef1 = self.coeficientes[i - self.cogrado] if self.cogrado <= i < self.cogrado + len(self.coeficientes) else 0\n",
    "            coef2 = otra.coeficientes[i - otra.cogrado] if otra.cogrado <= i < otra.cogrado + len(otra.coeficientes) else 0\n",
    "            coeficientes.append(coef1 + coef2)\n",
    "        return SerieConPrincipio(coeficientes, cogrado)\n",
    "\n"
   ]
  },
  {
   "cell_type": "markdown",
   "id": "50f2e382-c28e-4a96-8d59-8cd4b5d576d9",
   "metadata": {},
   "source": [
    "#### Producto: escalar y convolución\n",
    "\n"
   ]
  },
  {
   "cell_type": "markdown",
   "id": "d28df6ee-e222-47e3-a6e3-07e98fdbc578",
   "metadata": {},
   "source": [
    "El método `__mul__` permite tanto el producto escalar como el producto de Cauchy entre dos series.\n",
    "\n",
    "    def __mul__(self, escalar_o_otra):\n",
    "        \"\"\"\n",
    "        Producto por un escalar o producto convolución entre series.\n",
    "    \n",
    "        Parámetros:\n",
    "        - escalar_o_otra (float | SerieConPrincipio): Escalar o otra serie.\n",
    "    \n",
    "        Retorna:\n",
    "        - SerieConPrincipio: La serie resultante del producto.\n",
    "        \"\"\"\n",
    "        if isinstance(escalar_o_otra, (int, float, Fraction)):\n",
    "            coeficientes = [coef * escalar_o_otra for coef in self.coeficientes]\n",
    "            return SerieConPrincipio(coeficientes, self.cogrado)\n",
    "        elif isinstance(escalar_o_otra, SerieConPrincipio):\n",
    "            cogrado = self.cogrado + escalar_o_otra.cogrado\n",
    "            coeficientes = [0.0 if self.usa_float else Fraction(0)] * (len(self.coeficientes) + len(escalar_o_otra.coeficientes) - 1)\n",
    "            for i, coef1 in enumerate(self.coeficientes):\n",
    "                for j, coef2 in enumerate(escalar_o_otra.coeficientes):\n",
    "                    coeficientes[i + j] += coef1 * coef2\n",
    "            return SerieConPrincipio(coeficientes, cogrado)\n",
    "        else:\n",
    "            raise TypeError(\"El operador * solo admite un escalar o otra SerieConPrincipio.\")\n",
    "\n"
   ]
  },
  {
   "cell_type": "markdown",
   "id": "139ef72b-5ed4-4440-b2d2-20ec59acaacf",
   "metadata": {},
   "source": [
    "#### Producto escalar desde la izquierda\n",
    "\n"
   ]
  },
  {
   "cell_type": "markdown",
   "id": "316d01bf-f4f9-4f7e-b665-e8aff0254606",
   "metadata": {},
   "source": [
    "    def __rmul__(self, escalar):\n",
    "        \"\"\"\n",
    "        Producto por un escalar desde la izquierda.\n",
    "    \n",
    "        Parámetros:\n",
    "        - escalar (float): Escalar para multiplicar la serie.\n",
    "    \n",
    "        Retorna:\n",
    "        - SerieConPrincipio: La serie resultante del producto.\n",
    "        \"\"\"\n",
    "        return self.__mul__(escalar)\n",
    "\n"
   ]
  },
  {
   "cell_type": "markdown",
   "id": "a6d363d1-1d0d-40dd-8a0b-77bba143abb7",
   "metadata": {},
   "source": [
    "#### Inversa formal\n",
    "\n"
   ]
  },
  {
   "cell_type": "markdown",
   "id": "0fbe29ed-2335-4a16-a311-e008e91c99fc",
   "metadata": {},
   "source": [
    "Usamos recursión sobre la fórmula clásica de inversa de series: $ b_j = - \\frac{1}{a_0} \\sum_{r=1}^{j} a_{j-r} b_r $\n",
    "\n",
    "    def inversa(self, num_terminos=5):\n",
    "        \"\"\"\n",
    "        Calcula la inversa de la serie.\n",
    "    \n",
    "        Parámetros:\n",
    "        - num_terminos (int): Número de términos de la inversa a calcular.\n",
    "    \n",
    "        Retorna:\n",
    "        - SerieConPrincipio: La serie inversa.\n",
    "        \"\"\"\n",
    "        if not self.coeficientes or self.coeficientes[0] == 0:\n",
    "            raise ValueError(\"La primera componente no nula debe ser distinta de cero.\")\n",
    "    \n",
    "        b = [0.0 if self.usa_float else 0] * num_terminos\n",
    "        a0 = self.coeficientes[0]\n",
    "    \n",
    "        if self.usa_float:\n",
    "            b[0] = 1.0 / a0\n",
    "        else:\n",
    "            try:\n",
    "                if isinstance(a0, (int, Fraction)):\n",
    "                    b[0] = Fraction(1, a0)\n",
    "                else:\n",
    "                    b[0] = 1 / a0\n",
    "            except Exception as e:\n",
    "                raise ValueError(f\"No se pudo calcular el inverso del término inicial {a0}: {e}\")\n",
    "    \n",
    "        for j in range(1, num_terminos):\n",
    "            suma = sum(\n",
    "                b[r] * self.coeficientes[j - r]\n",
    "                for r in range(j)\n",
    "                if j - r < len(self.coeficientes)\n",
    "            )\n",
    "            b[j] = -b[0] * suma\n",
    "       \n",
    "        return SerieConPrincipio(b, -self.cogrado, final=True)\n",
    "\n"
   ]
  },
  {
   "cell_type": "markdown",
   "id": "01e5929d-722d-444a-b75e-e5dec8752037",
   "metadata": {},
   "source": [
    "#### Gráfico de la serie\n",
    "\n"
   ]
  },
  {
   "cell_type": "markdown",
   "id": "054fb868-58f6-4d72-8bf8-ac41966593e1",
   "metadata": {},
   "source": [
    "    def plot_serie(serie, title=\"Serie con principio (con cogrado)\"):\n",
    "        \"\"\"\n",
    "        Dibuja la serie como un gráfico de barras.\n",
    "        \"\"\"\n",
    "        indices = range(serie.cogrado, serie.cogrado + len(serie.coeficientes))\n",
    "        valores = serie.coeficientes\n",
    "        plt.figure(figsize=(8, 4))\n",
    "        #plt.bar(indices, valores, width=0.5, color='skyblue', edgecolor='k')\n",
    "        plt.stem(indices, valores)\n",
    "        plt.axhline(0, color='black', linewidth=0.8)\n",
    "        plt.xticks(indices, [str(int(idx)) for idx in indices]) # Asegura que las etiquetas sean enteras\n",
    "        plt.xlabel(\"Índice\")\n",
    "        plt.ylabel(\"Valor\")\n",
    "        plt.title(title)\n",
    "        plt.show()\n",
    "\n"
   ]
  },
  {
   "cell_type": "markdown",
   "id": "9918feaf-142a-4331-b1f5-c75dd50bbdf0",
   "metadata": {},
   "source": [
    "#### Sustitución simbólica\n",
    "\n"
   ]
  },
  {
   "cell_type": "markdown",
   "id": "b63d9046-60ef-4366-a097-a7d145eafcc5",
   "metadata": {},
   "source": [
    "    def subs(self, reglasDeSustitucion=[]):\n",
    "        \"\"\" Sustitución de variables simbólicas \"\"\"\n",
    "    \n",
    "        def CreaLista(t):\n",
    "            \"\"\"Devuelve t si t es una lista; si no devuelve la lista [t]\"\"\"\n",
    "            return t if isinstance(t, list) else [t]\n",
    "    \n",
    "        def sustitucion(elemento, regla_de_sustitucion):\n",
    "            return sympy.S(elemento).subs(CreaLista(regla_de_sustitucion))\n",
    "            \n",
    "        coeficientes = [sustitucion(elemento, reglasDeSustitucion) for elemento in self.coeficientes]\n",
    "        return SerieConPrincipio(coeficientes, self.cogrado)    \n",
    "\n"
   ]
  },
  {
   "cell_type": "markdown",
   "id": "9b096798-7bf1-4cdd-b345-d5597fa6be33",
   "metadata": {},
   "source": [
    "#### Ejemplo de uso\n",
    "\n"
   ]
  },
  {
   "cell_type": "markdown",
   "id": "c2b4f658-8f76-4a0d-8830-ef087fe0c798",
   "metadata": {},
   "source": [
    "Creamos una serie desde $ z^2 $, otra desde $ z^0 $, y calculamos su suma, producto e inversa (truncada).\n",
    "\n",
    "    s1 = SerieConPrincipio([1, 2, 3], 2)  # 1 z^2 + 2 z^3 + 3 z^4\n",
    "    s2 = SerieConPrincipio([1, -1], 0)   # 1 - z\n",
    "    \n",
    "    print(\"Serie 1:\", s1)\n",
    "    print(\"Serie 2:\", s2)\n",
    "    print(\"Suma:\", s1 + s2)\n",
    "    print(\"Producto:\", s1 * s2)\n",
    "    print(\"Inversa de s2 (hasta z^5):\", s2.inversa(6))\n",
    "\n"
   ]
  },
  {
   "cell_type": "markdown",
   "id": "70452092-8f98-4f9e-ac01-1ee26a7acc86",
   "metadata": {},
   "source": [
    "### Clase `SerieConFinal`: series con grado arbitrario en python\n",
    "\n"
   ]
  },
  {
   "cell_type": "markdown",
   "id": "c6872017-7e31-43c0-9291-7979ac297fde",
   "metadata": {},
   "source": [
    "    class SerieConFinal:\n",
    "        \"\"\"\n",
    "        Clase para representar series con un índice final arbitrario (grado).\n",
    "    \n",
    "        Atributos:\n",
    "        - coeficientes (list): Lista de coeficientes sin ceros finales.\n",
    "        - grado (int): Índice del último coeficiente no nulo.\n",
    "        - usa_float (bool): Indica si la serie opera con números flotantes.\n",
    "        - principio (bool): Indica si el principio de la serie se representa con una elipsis.\n",
    "    \n",
    "        Métodos:\n",
    "        - __repr__: Representa la serie como un par (grado, lista de coeficientes).\n",
    "        - _repr_latex_: Representa la serie en formato LaTeX.\n",
    "        - __add__: Suma de series con final.\n",
    "        - __mul__: Producto por escalar o convolución.\n",
    "        - __rmul__: Producto por escalar desde la izquierda.\n",
    "        - inversa: Calcula la inversa generando coeficientes hacia índices negativos.\n",
    "        \"\"\"\n",
    "    \n",
    "        def __init__(self, coeficientes, grado=0, principio=False):\n",
    "            # Eliminar ceros finales\n",
    "            ultimos_no_nulos = next((i for i in reversed(range(len(coeficientes))) if coeficientes[i] != 0), None)\n",
    "            if ultimos_no_nulos is None:  # Serie nula\n",
    "                self.coeficientes = []\n",
    "                self.grado = 0\n",
    "            else:\n",
    "                self.coeficientes = coeficientes[:ultimos_no_nulos+1]\n",
    "                self.grado = grado - (len(coeficientes) - ultimos_no_nulos - 1)\n",
    "    \n",
    "            self.principio = principio\n",
    "            self.usa_float = any(isinstance(c, float) for c in self.coeficientes if not hasattr(c, 'is_number'))\n",
    "            self.coeficientes = [\n",
    "                float(c) if self.usa_float and isinstance(c, (int, float)) else Fraction(c) if isinstance(c, (int, float)) else c\n",
    "                for c in self.coeficientes\n",
    "            ]\n",
    "    \n",
    "        def __repr__(self):\n",
    "            return f\"({self.grado}, {self.coeficientes})\"\n",
    "       \n",
    "        def latex(self):\n",
    "            if not self.coeficientes:\n",
    "                return \"$0$\"\n",
    "            terminos = []\n",
    "            for i, coef in enumerate(self.coeficientes):\n",
    "                indice = self.grado - (len(self.coeficientes) - 1 - i)\n",
    "                if coef != 0:\n",
    "                    coef_sympy = Rational(coef.numerator, coef.denominator) if isinstance(coef, Fraction) else coef\n",
    "                    coef_latex = r\"\\left(\" + latex(coef_sympy) + r\"\\right)\" if  isinstance(coef_sympy, Add) else latex(coef_sympy)\n",
    "                    if coef_sympy == -1 and indice != 0:\n",
    "                        coef_latex = \"-\"\n",
    "                    if coef_sympy == 1 and indice != 0:\n",
    "                        coef_latex = \"\"\n",
    "                    if indice == 0:\n",
    "                        terminos.append(f\"{coef_latex}\")\n",
    "                    elif indice == 1:\n",
    "                        terminos.append(f\"{coef_latex}z\")\n",
    "                    else:\n",
    "                        terminos.append(f\"{coef_latex}z^{{{indice}}}\")\n",
    "                        \n",
    "            cadena = r'\\cdots + ' if self.principio else ''\n",
    "            representacion = cadena + \" + \".join(terminos).replace(\"+ -\", \"- \")\n",
    "            return representacion.replace(\"+ -\", \"- \")\n",
    "    \n",
    "        def _repr_latex_(self):\n",
    "            return '$'+self.latex()+'$'\n",
    "    \n",
    "        def _repr_html_(self):\n",
    "            \"\"\" Construye la representación para el entorno jupyter notebook \"\"\"\n",
    "            return html(self.latex())\n",
    "        \n",
    "    #    def _repr_png_(self):\n",
    "    #        \"\"\" Representación png para el entorno jupyter en Emacs \"\"\"\n",
    "    #        try:\n",
    "    #            expr = '$'+self.latex()+'$'\n",
    "    #            workdir = tempfile.mkdtemp()\n",
    "    #            with open(join(workdir, 'borrame.png'), 'wb') as outputfile:\n",
    "    #                sympy.preview(expr, viewer='BytesIO', outputbuffer=outputfile)\n",
    "    #            return open(join(workdir, 'borrame.png'),'rb').read()\n",
    "    #        except:\n",
    "    #            return '$'+self.latex()+'$'\n",
    "        \n",
    "        def __add__(self, otra):\n",
    "            grado = max(self.grado, otra.grado)\n",
    "            inicio = min(self.grado - len(self.coeficientes) + 1, otra.grado - len(otra.coeficientes) + 1)\n",
    "            coeficientes = []\n",
    "            for i in range(inicio, grado + 1):\n",
    "                coef1 = self.coeficientes[i - (self.grado - len(self.coeficientes) + 1)] if self.grado - len(self.coeficientes) + 1 <= i <= self.grado else 0\n",
    "                coef2 = otra.coeficientes[i - (otra.grado - len(otra.coeficientes) + 1)] if otra.grado - len(otra.coeficientes) + 1 <= i <= otra.grado else 0\n",
    "                coeficientes.append(coef1 + coef2)\n",
    "            return SerieConFinal(coeficientes, grado)\n",
    "    \n",
    "        def __mul__(self, escalar_o_otra):\n",
    "            if isinstance(escalar_o_otra, (int, float, Fraction)):\n",
    "                coeficientes = [coef * escalar_o_otra for coef in self.coeficientes]\n",
    "                return SerieConFinal(coeficientes, self.grado)\n",
    "            elif isinstance(escalar_o_otra, SerieConFinal):\n",
    "                grado = self.grado + escalar_o_otra.grado\n",
    "                coeficientes = [0.0 if self.usa_float else Fraction(0)] * (len(self.coeficientes) + len(escalar_o_otra.coeficientes) - 1)\n",
    "                for i, coef1 in enumerate(self.coeficientes):\n",
    "                    for j, coef2 in enumerate(escalar_o_otra.coeficientes):\n",
    "                        coeficientes[i + j] += coef1 * coef2\n",
    "                return SerieConFinal(coeficientes, grado)\n",
    "            else:\n",
    "                raise TypeError(\"El operador * solo admite un escalar o otra SerieConFinal.\")\n",
    "    \n",
    "        def __rmul__(self, escalar):\n",
    "            return self.__mul__(escalar)\n",
    "    \n",
    "        \n",
    "        def inversa(self, num_terminos=5):\n",
    "            \"\"\"\n",
    "            Calcula la inversa de la serie como otra SerieConFinal.\n",
    "            \"\"\"\n",
    "            if not self.coeficientes or self.coeficientes[-1] == 0:\n",
    "                raise ValueError(\"La última componente no nula debe ser distinta de cero.\")\n",
    "    \n",
    "            a = self.coeficientes[::-1]  # Trabajamos como si fuera una SerieConPrincipio\n",
    "            b = [0.0 if self.usa_float else 0] * num_terminos\n",
    "            a0 = a[0]\n",
    "    \n",
    "            if self.usa_float:\n",
    "                b[0] = 1.0 / a0\n",
    "            else:\n",
    "                try:\n",
    "                    if isinstance(a0, (int, Fraction)):\n",
    "                        b[0] = Fraction(1, a0)\n",
    "                    else:\n",
    "                        b[0] = 1 / a0\n",
    "                except Exception as e:\n",
    "                    raise ValueError(f\"No se pudo calcular el inverso del coeficiente constante {a0}: {e}\")\n",
    "    \n",
    "            for j in range(1, num_terminos):\n",
    "                suma = sum(b[k] * a[j - k] for k in range(j) if j - k < len(a))\n",
    "                b[j] = -b[0] * suma\n",
    "    \n",
    "            # El resultado es otra SerieConFinal con coeficientes en orden inverso\n",
    "            return SerieConFinal(b[::-1], -self.grado, principio=True)\n",
    "    \n",
    "    \n",
    "        def plot_serie(self, title=\"Serie con final (con grado)\"):\n",
    "            \"\"\"\n",
    "            Dibuja la serie como un gráfico de barras.\n",
    "            \"\"\"\n",
    "            # Calcular los índices para el eje X\n",
    "            # El índice del último elemento de la lista será self.grado\n",
    "            # Los coeficientes anteriores se colocarán en índices decrecientes\n",
    "            longitud_lista = len(self.coeficientes)\n",
    "            indices = []\n",
    "            for i in range(longitud_lista):\n",
    "                # El último elemento de la lista (índice longitud_lista - 1)\n",
    "                # se mapea a self.grado.\n",
    "                # Los coeficientes anteriores (longitud_lista - 2, etc.)\n",
    "                # se mapean a self.grado - 1, self.grado - 2, etc.\n",
    "                indice_mapeado = self.grado - (longitud_lista - 1 - i)\n",
    "                indices.append(indice_mapeado)\n",
    "            valores = self.coeficientes\n",
    "            plt.figure(figsize=(8, 4))\n",
    "            #plt.bar(indices, valores, width=0.5, color='skyblue', edgecolor='k')\n",
    "            plt.stem(indices, valores)\n",
    "            plt.axhline(0, color='black', linewidth=0.8)\n",
    "            plt.xticks(indices, [str(int(idx)) for idx in indices]) # Asegura que las etiquetas sean enteras\n",
    "            plt.xlabel(\"Índice\")\n",
    "            plt.ylabel(\"Valor\")\n",
    "            plt.title(title)\n",
    "            plt.show()\n",
    "            \n",
    "        def subs(self, reglasDeSustitucion=[]):\n",
    "            \"\"\" Sustitución de variables simbólicas \"\"\"\n",
    "    \n",
    "            def CreaLista(t):\n",
    "                \"\"\"Devuelve t si t es una lista; si no devuelve la lista [t]\"\"\"\n",
    "                return t if isinstance(t, list) else [t]\n",
    "    \n",
    "            def sustitucion(elemento, regla_de_sustitucion):\n",
    "                return sympy.S(elemento).subs(CreaLista(regla_de_sustitucion))\n",
    "                \n",
    "            coeficientes = [sustitucion(elemento, reglasDeSustitucion) for elemento in self.coeficientes]\n",
    "            return SerieConFinal(coeficientes, self.grado)    \n",
    "\n"
   ]
  }
 ],
 "metadata": {
  "kernelspec": {
   "display_name": "Python 3",
   "language": "python",
   "name": "python3"
  },
  "language_info": {
   "codemirror_mode": {
    "name": "ipython",
    "version": 3
   },
   "file_extension": ".py",
   "mimetype": "text/x-python",
   "name": "python",
   "nbconvert_exporter": "python",
   "pygments_lexer": "ipython3",
   "version": "3.9.23"
  },
  "org": null
 },
 "nbformat": 4,
 "nbformat_minor": 5
}
